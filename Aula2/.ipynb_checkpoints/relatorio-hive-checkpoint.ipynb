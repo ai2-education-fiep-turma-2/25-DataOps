{
 "cells": [
  {
   "cell_type": "markdown",
   "metadata": {},
   "source": [
    "# Integração Hive x Pandas "
   ]
  },
  {
   "cell_type": "code",
   "execution_count": 11,
   "metadata": {},
   "outputs": [
    {
     "name": "stdout",
     "output_type": "stream",
     "text": [
      "<pyhive.hive.Connection object at 0x7fb0f1435d50>\n"
     ]
    }
   ],
   "source": [
    "from pyhive import hive\n",
    "import pandas as pd\n",
    "\n",
    "PORT=10000\n",
    "conn = hive.Connection(host=\"127.0.0.1\", port=PORT, username=\"silvio\")\n",
    "\n",
    "print(conn)"
   ]
  },
  {
   "cell_type": "code",
   "execution_count": 12,
   "metadata": {},
   "outputs": [
    {
     "name": "stdout",
     "output_type": "stream",
     "text": [
      "  database_name\n",
      "0       default\n",
      "1       modelos\n",
      "2      modelos2\n",
      "3         olist\n"
     ]
    }
   ],
   "source": [
    "dataframe = pd.read_sql(\"show databases\", conn)\n",
    "print(dataframe)"
   ]
  },
  {
   "cell_type": "code",
   "execution_count": 13,
   "metadata": {},
   "outputs": [
    {
     "name": "stdout",
     "output_type": "stream",
     "text": [
      "       diabetes.pregnancies  diabetes.glucose  diabetes.bloodpressure  \\\n",
      "count            768.000000        768.000000              768.000000   \n",
      "mean               3.845052        120.894531               69.105469   \n",
      "std                3.369578         31.972618               19.355807   \n",
      "min                0.000000          0.000000                0.000000   \n",
      "25%                1.000000         99.000000               62.000000   \n",
      "50%                3.000000        117.000000               72.000000   \n",
      "75%                6.000000        140.250000               80.000000   \n",
      "max               17.000000        199.000000              122.000000   \n",
      "\n",
      "       diabetes.skinthickness  diabetes.insulin  diabetes.bmi  \\\n",
      "count              768.000000        768.000000    768.000000   \n",
      "mean                20.536458         79.799479     31.992578   \n",
      "std                 15.952218        115.244002      7.884160   \n",
      "min                  0.000000          0.000000      0.000000   \n",
      "25%                  0.000000          0.000000     27.300000   \n",
      "50%                 23.000000         30.500000     32.000000   \n",
      "75%                 32.000000        127.250000     36.600000   \n",
      "max                 99.000000        846.000000     67.100000   \n",
      "\n",
      "       diabetes.diabetespedigreefunction  diabetes.age  diabetes.class  \n",
      "count                         768.000000    768.000000      768.000000  \n",
      "mean                            0.471876     33.240885        0.348958  \n",
      "std                             0.331329     11.760232        0.476951  \n",
      "min                             0.078000     21.000000        0.000000  \n",
      "25%                             0.243750     24.000000        0.000000  \n",
      "50%                             0.372500     29.000000        0.000000  \n",
      "75%                             0.626250     41.000000        1.000000  \n",
      "max                             2.420000     81.000000        1.000000  \n"
     ]
    }
   ],
   "source": [
    "dataframe = pd.read_sql(\"select * from modelos.diabetes\", conn)\n",
    "print(dataframe.describe())"
   ]
  },
  {
   "cell_type": "markdown",
   "metadata": {},
   "source": [
    "# dataset olist"
   ]
  },
  {
   "cell_type": "code",
   "execution_count": 14,
   "metadata": {},
   "outputs": [
    {
     "name": "stdout",
     "output_type": "stream",
     "text": [
      "                     pedidos.order_id                 pedidos.customer_id  \\\n",
      "0                          \"order_id\"                       \"customer_id\"   \n",
      "1    e481f51cbdc54678b7cc49136f2d6af7  \"9ef432eb6251297304e76186b10a928d\"   \n",
      "2  \"53cdb2fc8bc7dce0b6741e2150273451\"    b0830fb4747a6c6d20dea0b8c802d7ef   \n",
      "3  \"47770eb9100c2d0c44946d9cf07ec65d\"  \"41ce2a54c0b03bf3443c3d931a367089\"   \n",
      "4  \"949d5b44dbf5de918fe9c16f97b45f8a\"    f88197465ea7920adcdbec7375364d82   \n",
      "\n",
      "  pedidos.order_status pedidos.order_purchase_timestamp  \\\n",
      "0       \"order_status\"       \"order_purchase_timestamp\"   \n",
      "1            delivered              2017-10-02 10:56:33   \n",
      "2            delivered              2018-07-24 20:41:37   \n",
      "3            delivered              2018-08-08 08:38:49   \n",
      "4            delivered              2017-11-18 19:28:06   \n",
      "\n",
      "  pedidos.order_approved_at pedidos.order_delivered_carrier_date  \\\n",
      "0       \"order_approved_at\"       \"order_delivered_carrier_date\"   \n",
      "1       2017-10-02 11:07:15                  2017-10-04 19:55:00   \n",
      "2       2018-07-26 03:24:27                  2018-07-26 14:31:00   \n",
      "3       2018-08-08 08:55:23                  2018-08-08 13:50:00   \n",
      "4       2017-11-18 19:45:59                  2017-11-22 13:39:59   \n",
      "\n",
      "  pedidos.order_delivered_customer_date pedidos.order_estimated_delivery_date  \n",
      "0       \"order_delivered_customer_date\"       \"order_estimated_delivery_date\"  \n",
      "1                   2017-10-10 21:25:13                   2017-10-18 00:00:00  \n",
      "2                   2018-08-07 15:27:45                   2018-08-13 00:00:00  \n",
      "3                   2018-08-17 18:06:29                   2018-09-04 00:00:00  \n",
      "4                   2017-12-02 00:28:42                   2017-12-15 00:00:00  \n"
     ]
    }
   ],
   "source": [
    "dataframe = pd.read_sql(\"select * from pedidos\", conn)\n",
    "print(dataframe.head(5))"
   ]
  },
  {
   "cell_type": "code",
   "execution_count": 15,
   "metadata": {},
   "outputs": [
    {
     "name": "stdout",
     "output_type": "stream",
     "text": [
      "                customers.customer_id        customers.customer_unique_id  \\\n",
      "0                       \"customer_id\"                \"customer_unique_id\"   \n",
      "1  \"06b8999e2fba1a1fbc88172c00ba8bc7\"  \"861eff4711a542e4b93843c6dd7febb0\"   \n",
      "2  \"18955e83d337fd6b2def6b18a428ac77\"  \"290c77bc529b7ac935b93aa66c333dc3\"   \n",
      "3  \"4e7b3e00288586ebd08712fdd0374a03\"  \"060e732b5b29e8181a18229c7b0b2b5e\"   \n",
      "4    b2b6027bc5c5109e529d4dc6358b12c3  \"259dac757896d24d7702b9acbbff3f3c\"   \n",
      "\n",
      "  customers.customer_zip_code_prefix customers.customer_city  \\\n",
      "0                               None         \"customer_city\"   \n",
      "1                               None                  franca   \n",
      "2                               None   sao bernardo do campo   \n",
      "3                               None               sao paulo   \n",
      "4                               None         mogi das cruzes   \n",
      "\n",
      "  customers.customer_state  \n",
      "0         \"customer_state\"  \n",
      "1                       SP  \n",
      "2                       SP  \n",
      "3                       SP  \n",
      "4                       SP  \n"
     ]
    }
   ],
   "source": [
    "\n",
    "dataframe = pd.read_sql(\"select * from customers\", conn)\n",
    "print(dataframe.head(5))"
   ]
  },
  {
   "cell_type": "code",
   "execution_count": null,
   "metadata": {},
   "outputs": [],
   "source": [
    "# gerando gráfico a partir de tabela preparada no hive"
   ]
  },
  {
   "cell_type": "code",
   "execution_count": 24,
   "metadata": {},
   "outputs": [
    {
     "name": "stdout",
     "output_type": "stream",
     "text": [
      "Index(['customer_state', '_c1'], dtype='object')\n"
     ]
    }
   ],
   "source": [
    "dataframe = pd.read_sql(\"select customer_state, count(*) from pedido_cliente_join group by customer_state\", conn)\n",
    "print(dataframe.columns)"
   ]
  },
  {
   "cell_type": "code",
   "execution_count": 25,
   "metadata": {},
   "outputs": [
    {
     "name": "stderr",
     "output_type": "stream",
     "text": [
      "/home/silvio/.local/lib/python3.7/site-packages/pandas/plotting/_matplotlib/core.py:575: UserWarning: The handle <BarContainer object of 28 artists> has a label of '_c1' which cannot be automatically added to the legend.\n",
      "  ax.legend(handles, labels, loc=\"best\", title=title)\n"
     ]
    },
    {
     "data": {
      "text/plain": [
       "<matplotlib.axes._subplots.AxesSubplot at 0x7fb0f03e8f50>"
      ]
     },
     "execution_count": 25,
     "metadata": {},
     "output_type": "execute_result"
    },
    {
     "data": {
      "image/png": "[encoded data removed]",
      "text/plain": [
       "<Figure size 432x288 with 1 Axes>"
      ]
     },
     "metadata": {
      "needs_background": "light"
     },
     "output_type": "display_data"
    }
   ],
   "source": [
    "dataframe.plot.bar(x='customer_state', y='_c1')"
   ]
  },
  {
   "cell_type": "code",
   "execution_count": null,
   "metadata": {},
   "outputs": [],
   "source": []
  },
  {
   "cell_type": "code",
   "execution_count": null,
   "metadata": {},
   "outputs": [],
   "source": []
  }
 ],
 "metadata": {
  "kernelspec": {
   "display_name": "Python 3",
   "language": "python",
   "name": "python3"
  },
  "language_info": {
   "codemirror_mode": {
    "name": "ipython",
    "version": 3
   },
   "file_extension": ".py",
   "mimetype": "text/x-python",
   "name": "python",
   "nbconvert_exporter": "python",
   "pygments_lexer": "ipython3",
   "version": "3.7.10"
  }
 },
 "nbformat": 4,
 "nbformat_minor": 4
}
