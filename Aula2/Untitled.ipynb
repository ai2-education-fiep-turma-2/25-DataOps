{
 "cells": [
  {
   "cell_type": "markdown",
   "metadata": {},
   "source": [
    "# criando database olist\n",
    "CREATE TABLE IF NOT EXISTS customers ( \n",
    "customer_id STRING,\n",
    "customer_unique_id STRING,\n",
    "customer_zip_code_prefix INT,\n",
    "customer_city STRING,\n",
    "customer_state STRING\n",
    ") ROW FORMAT DELIMITED FIELDS TERMINATED BY ',' STORED AS TEXTFILE;\n",
    "\n",
    "\n",
    "CREATE TABLE IF NOT EXISTS pedidos ( \n",
    "order_id STRING,\n",
    "customer_id STRING,\n",
    "order_status  STRING,\n",
    "order_purchase_timestamp  STRING,\n",
    "order_approved_at  STRING,\n",
    "order_delivered_carrier_date  STRING,\n",
    "order_delivered_customer_date  STRING,\n",
    "order_estimated_delivery_date  STRING\n",
    ") ROW FORMAT DELIMITED FIELDS TERMINATED BY ',' STORED AS TEXTFILE;\n",
    "\n",
    "\n",
    "CREATE TABLE IF NOT EXISTS itens_pedidos ( \n",
    "order_id STRING,\n",
    "order_item_id STRING,\n",
    "product_id STRING,\n",
    "seller_id STRING,\n",
    "shipping_limit_date STRING,\n",
    "price STRING,\n",
    "freight_value STRING\n",
    ") ROW FORMAT DELIMITED FIELDS TERMINATED BY ',' STORED AS TEXTFILE;"
   ]
  },
  {
   "cell_type": "code",
   "execution_count": null,
   "metadata": {},
   "outputs": [],
   "source": []
  },
  {
   "cell_type": "code",
   "execution_count": null,
   "metadata": {},
   "outputs": [],
   "source": [
    "LOAD DATA LOCAL INPATH '/home/silvio/hiveW/warehouse/olist_customers_dataset.csv' INTO TABLE olist.customers; \n",
    "LOAD DATA LOCAL INPATH '/home/silvio/hiveW/warehouse//olist_orders_dataset.csv' INTO TABLE olist.pedidos;\n",
    "LOAD DATA LOCAL INPATH '/home/silvio/hiveW/warehouse/olist_order_items_dataset.csv' INTO TABLE olist.itens_pedidos;"
   ]
  },
  {
   "cell_type": "code",
   "execution_count": null,
   "metadata": {},
   "outputs": [],
   "source": []
  },
  {
   "cell_type": "code",
   "execution_count": null,
   "metadata": {},
   "outputs": [],
   "source": []
  },
  {
   "cell_type": "markdown",
   "metadata": {},
   "source": []
  }
 ],
 "metadata": {
  "kernelspec": {
   "display_name": "Python 3",
   "language": "python",
   "name": "python3"
  },
  "language_info": {
   "codemirror_mode": {
    "name": "ipython",
    "version": 3
   },
   "file_extension": ".py",
   "mimetype": "text/x-python",
   "name": "python",
   "nbconvert_exporter": "python",
   "pygments_lexer": "ipython3",
   "version": "3.7.10"
  }
 },
 "nbformat": 4,
 "nbformat_minor": 4
}
