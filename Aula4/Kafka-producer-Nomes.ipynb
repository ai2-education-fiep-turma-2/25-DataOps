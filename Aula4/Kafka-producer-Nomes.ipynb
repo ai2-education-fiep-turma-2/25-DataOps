{
 "cells": [
  {
   "cell_type": "markdown",
   "metadata": {},
   "source": [
    "pip install python-random-name-generator"
   ]
  },
  {
   "cell_type": "code",
   "execution_count": null,
   "metadata": {},
   "outputs": [],
   "source": []
  },
  {
   "cell_type": "code",
   "execution_count": 7,
   "metadata": {},
   "outputs": [],
   "source": [
    "from time import sleep\n",
    "from json import dumps\n",
    "from kafka import KafkaProducer\n",
    "import random_name_generator as rng"
   ]
  },
  {
   "cell_type": "code",
   "execution_count": 8,
   "metadata": {},
   "outputs": [],
   "source": [
    "producer = KafkaProducer(bootstrap_servers=['localhost:9092'],\n",
    "                         value_serializer=lambda x: \n",
    "                         dumps(x).encode('utf-8'))"
   ]
  },
  {
   "cell_type": "code",
   "execution_count": 9,
   "metadata": {},
   "outputs": [
    {
     "name": "stdout",
     "output_type": "stream",
     "text": [
      "['Alex Johnson']\n",
      "['Alex Johnson']\n",
      "['Alex Abramson']\n",
      "['John Abramson']\n",
      "['John Johnson']\n",
      "['Joseph Abramson']\n",
      "['John Johnson']\n",
      "['John Johnson']\n",
      "['Alex Johnson']\n",
      "['John Johnson']\n"
     ]
    }
   ],
   "source": [
    "for e in range(10):\n",
    "    \n",
    "    name=rng.generate(descent=rng.Descent.ENGLISH, sex=rng.Sex.MALE, limit=1)\n",
    "    print(name)\n",
    "    producer.send('numtest', value=name)    \n",
    "    sleep(5)"
   ]
  },
  {
   "cell_type": "code",
   "execution_count": null,
   "metadata": {},
   "outputs": [],
   "source": []
  }
 ],
 "metadata": {
  "kernelspec": {
   "display_name": "Python 3",
   "language": "python",
   "name": "python3"
  },
  "language_info": {
   "codemirror_mode": {
    "name": "ipython",
    "version": 3
   },
   "file_extension": ".py",
   "mimetype": "text/x-python",
   "name": "python",
   "nbconvert_exporter": "python",
   "pygments_lexer": "ipython3",
   "version": "3.8.3"
  }
 },
 "nbformat": 4,
 "nbformat_minor": 4
}
